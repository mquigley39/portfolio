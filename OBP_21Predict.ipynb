{
 "cells": [
  {
   "cell_type": "code",
   "execution_count": 1,
   "id": "1b5a9362",
   "metadata": {},
   "outputs": [],
   "source": [
    "## Madeline Quigley\n",
    "## 2023.04.01\n",
    "## Predicting each player's on-base percentage for the 2021 season"
   ]
  },
  {
   "cell_type": "code",
   "execution_count": 2,
   "id": "493dc2f0",
   "metadata": {},
   "outputs": [],
   "source": [
    "# Reading the Data\n",
    "\n",
    "import csv\n",
    "\n",
    "# open csv file\n",
    "with open(r'C:\\Users\\Madeline\\Documents\\Philadelphia Phillies\\obp.csv', mode = 'r') as file:\n",
    "    #read csv file\n",
    "    obp = csv.reader(file)\n",
    "    #print csv file\n",
    "    #for lines in obp:\n",
    "        #print(lines)"
   ]
  },
  {
   "cell_type": "code",
   "execution_count": 3,
   "id": "428339fa",
   "metadata": {},
   "outputs": [],
   "source": [
    "# Splitting the data into attributes and target variable\n",
    "\n",
    "import pandas as pd\n",
    "\n",
    "# load into dataframe\n",
    "df = pd.read_csv(r'C:\\Users\\Madeline\\Documents\\Philadelphia Phillies\\obp.csv', index_col=0)\n",
    "\n",
    "# split data, drop string values, OBP_21 is target attribute\n",
    "X = df.drop(['playerid', 'birth_date', 'OBP_21'], axis=1)\n",
    "y = df['OBP_21']\n"
   ]
  },
  {
   "cell_type": "code",
   "execution_count": 4,
   "id": "3144a382",
   "metadata": {},
   "outputs": [
    {
     "name": "stdout",
     "output_type": "stream",
     "text": [
      "PA_21     float64\n",
      "PA_20     float64\n",
      "OBP_20    float64\n",
      "PA_19     float64\n",
      "OBP_19    float64\n",
      "PA_18     float64\n",
      "OBP_18    float64\n",
      "PA_17     float64\n",
      "OBP_17    float64\n",
      "PA_16     float64\n",
      "OBP_16    float64\n",
      "dtype: object\n"
     ]
    }
   ],
   "source": [
    "# Handling missing values -- need predictions for every player so we couldn't just drop rows\n",
    "# with missing values, i am simply using the mean to estimate the missing values. this is likely\n",
    "# an inaccurate estimate and a more accurate model might use regression or kNN imputation\n",
    "\n",
    "from sklearn.impute import SimpleImputer\n",
    "\n",
    "# using column means to fill in missing values\n",
    "imputer = SimpleImputer(strategy='mean')\n",
    "X_imputed = imputer.fit_transform(X)\n",
    "X = pd.DataFrame(X_imputed, columns=X.columns, index=X.index)\n",
    "print(X.dtypes)\n",
    "\n",
    "\n",
    "# Source: https://scikit-learn.org/stable/modules/generated/sklearn.impute.SimpleImputer.html "
   ]
  },
  {
   "cell_type": "code",
   "execution_count": 5,
   "id": "771cd5d9",
   "metadata": {},
   "outputs": [
    {
     "name": "stdout",
     "output_type": "stream",
     "text": [
      "[0.27762    0.3020175  0.34144    0.33648    0.26136    0.31318\n",
      " 0.30945    0.3072     0.29138567 0.33403    0.29985    0.3246\n",
      " 0.24548    0.2945325  0.25247    0.30891    0.35926    0.27733\n",
      " 0.27328917 0.29975    0.317      0.34235    0.24071    0.34974\n",
      " 0.2702965  0.34146    0.31935    0.24878217 0.30434    0.28391\n",
      " 0.28822    0.22855    0.23674    0.23418    0.29103    0.34886\n",
      " 0.34856    0.32467    0.3279     0.35645    0.29387    0.31226567\n",
      " 0.27752    0.28877    0.28565    0.31371    0.33764    0.2444775\n",
      " 0.34153    0.32467    0.29703    0.35707    0.275991   0.269651\n",
      " 0.25931    0.27166    0.35545    0.34725    0.35737    0.29519\n",
      " 0.25353    0.36489    0.25840567 0.28939    0.32306    0.29482\n",
      " 0.33957    0.35677    0.32858    0.35419    0.34925    0.32113\n",
      " 0.24879    0.28515    0.29738    0.28637917 0.29273    0.2719125\n",
      " 0.28916    0.273128   0.33229    0.30316    0.33714    0.32138\n",
      " 0.2852525  0.2807955  0.32829    0.269651   0.24761    0.26288\n",
      " 0.33704    0.28826    0.32207333 0.30635    0.32683    0.35507\n",
      " 0.29531667 0.29296    0.30823    0.29139    0.20892    0.33633\n",
      " 0.28058    0.293645   0.29681833 0.28506    0.3122     0.34649\n",
      " 0.274472   0.33459    0.33401    0.33041    0.30428    0.29956\n",
      " 0.35432   ]\n"
     ]
    }
   ],
   "source": [
    "## Random Forest Model\n",
    "# Fit the model and make predictions\n",
    "\n",
    "from sklearn.model_selection import train_test_split\n",
    "from sklearn.ensemble import RandomForestRegressor\n",
    "\n",
    "# split into training and test sets (same for all models)\n",
    "X_train, X_test, y_train, y_test = train_test_split(X, y, test_size=0.2, random_state=42)\n",
    "\n",
    "X_test_imputed = imputer.transform(X_test)\n",
    "X_test = pd.DataFrame(X_test_imputed, columns=X_test.columns, index=X_test.index)\n",
    "\n",
    "# fit random forest model\n",
    "regr = RandomForestRegressor()\n",
    "regr.fit(X_train, y_train)\n",
    "\n",
    "# make prediction on test set\n",
    "y_pred = regr.predict(X_test)\n",
    "\n",
    "# array of on-base percentage perdictions\n",
    "print(y_pred)\n",
    "\n",
    "\n",
    "# Source: https://scikit-learn.org/stable/modules/generated/sklearn.ensemble.RandomForestRegressor.html "
   ]
  },
  {
   "cell_type": "code",
   "execution_count": 6,
   "id": "89cd97f6",
   "metadata": {},
   "outputs": [
    {
     "name": "stdout",
     "output_type": "stream",
     "text": [
      "MSE: 0.0022702027553666653\n"
     ]
    }
   ],
   "source": [
    "# Model Performance (Random Forest)\n",
    "\n",
    "from sklearn.metrics import mean_squared_error\n",
    "\n",
    "# model performance using mse\n",
    "mse = mean_squared_error(y_test, y_pred)\n",
    "print(\"MSE:\", mse)\n"
   ]
  },
  {
   "cell_type": "code",
   "execution_count": 7,
   "id": "e90236bd",
   "metadata": {},
   "outputs": [
    {
     "name": "stdout",
     "output_type": "stream",
     "text": [
      "[0.26951052 0.28301356 0.33043475 0.32368801 0.2683466  0.30427995\n",
      " 0.3028678  0.29718168 0.28909895 0.31241488 0.29217313 0.32062924\n",
      " 0.22946016 0.28909895 0.26360153 0.31533297 0.35173897 0.28173127\n",
      " 0.2683466  0.29528669 0.31919834 0.35244781 0.24583149 0.32667513\n",
      " 0.27551102 0.34219408 0.32159142 0.2703514  0.30211844 0.28324452\n",
      " 0.27865464 0.24948406 0.23981167 0.22561468 0.29740451 0.36046831\n",
      " 0.3475254  0.32105491 0.33792763 0.34267562 0.30164609 0.29529317\n",
      " 0.27712011 0.30169309 0.28926796 0.32591969 0.33060787 0.30010279\n",
      " 0.32655694 0.31662658 0.30376388 0.36021304 0.27337739 0.27773512\n",
      " 0.2787044  0.27397092 0.3585255  0.34950251 0.36176139 0.29979328\n",
      " 0.25848882 0.37695649 0.26527694 0.29101681 0.32839816 0.3119736\n",
      " 0.34441629 0.35082706 0.31726682 0.36345695 0.34604408 0.31417692\n",
      " 0.27381725 0.28725051 0.31236815 0.28299117 0.29986843 0.27122204\n",
      " 0.29533392 0.26548416 0.32913605 0.30365826 0.33189567 0.29672726\n",
      " 0.28752678 0.28510626 0.34026866 0.27773512 0.25617957 0.2683466\n",
      " 0.32832276 0.28845238 0.36543699 0.29738103 0.32859848 0.35542134\n",
      " 0.29370175 0.29238677 0.29395951 0.28789514 0.22313929 0.33003262\n",
      " 0.2683466  0.28203706 0.28909895 0.27395618 0.3018343  0.3309436\n",
      " 0.27506923 0.32822377 0.32822696 0.32340942 0.29428607 0.29199243\n",
      " 0.36628   ]\n"
     ]
    }
   ],
   "source": [
    "## Gradient Boosting Model\n",
    "# Fit the model and make predictions\n",
    "\n",
    "from sklearn.ensemble import GradientBoostingRegressor\n",
    "\n",
    "# fitting the gradient boosting model\n",
    "reg = GradientBoostingRegressor(random_state=42)\n",
    "reg.fit(X_train, y_train)\n",
    "\n",
    "# predict on-base percentages and print results\n",
    "y_pred = reg.predict(X_test)\n",
    "print(y_pred)\n",
    "\n",
    "\n",
    "# Source: https://scikit-learn.org/stable/modules/generated/sklearn.ensemble.GradientBoostingRegressor.html"
   ]
  },
  {
   "cell_type": "code",
   "execution_count": 8,
   "id": "3e523a8c",
   "metadata": {},
   "outputs": [
    {
     "name": "stdout",
     "output_type": "stream",
     "text": [
      "Mean squared error: 0.0023213523479738768\n"
     ]
    }
   ],
   "source": [
    "# Model Performace (Gradient Boosting)\n",
    "\n",
    "mse = mean_squared_error(y_test, y_pred)\n",
    "print('Mean squared error:', mse)"
   ]
  },
  {
   "cell_type": "code",
   "execution_count": 9,
   "id": "9fa0ed85",
   "metadata": {},
   "outputs": [
    {
     "name": "stdout",
     "output_type": "stream",
     "text": [
      "[0.278  0.3075 0.376  0.358  0.255  0.303  0.394  0.286  0.314  0.316\n",
      " 0.281  0.33   0.194  0.297  0.2    0.31   0.394  0.258  0.293  0.298\n",
      " 0.334  0.314  0.152  0.24   0.317  0.357  0.305  0.2    0.247  0.311\n",
      " 0.253  0.194  0.278  0.342  0.286  0.286  0.335  0.32   0.308  0.383\n",
      " 0.242  0.353  0.278  0.301  0.216  0.316  0.286  0.2375 0.34   0.322\n",
      " 0.3    0.24   0.242  0.256  0.215  0.202  0.351  0.348  0.351  0.31\n",
      " 0.255  0.351  0.233  0.34   0.349  0.263  0.353  0.334  0.319  0.372\n",
      " 0.351  0.293  0.208  0.379  0.312  0.382  0.31   0.311  0.3    0.208\n",
      " 0.329  0.317  0.328  0.28   0.282  0.2    0.236  0.256  0.356  0.26\n",
      " 0.362  0.305  0.466  0.27   0.316  0.383  0.2    0.281  0.312  0.311\n",
      " 0.233  0.346  0.347  0.328  0.314  0.311  0.322  0.39   0.302  0.355\n",
      " 0.312  0.304  0.262  0.348  0.373 ]\n"
     ]
    }
   ],
   "source": [
    "## Decision Tree\n",
    "# Fit the model and make predictions\n",
    "\n",
    "from sklearn.tree import DecisionTreeRegressor\n",
    "\n",
    "# fitting the decision tree model\n",
    "regressor = DecisionTreeRegressor(random_state=0)\n",
    "regressor.fit(X_train, y_train)\n",
    "\n",
    "# predict on-base percentages and print results\n",
    "y_pred = regressor.predict(X_test)\n",
    "print(y_pred)\n",
    "\n",
    "\n",
    "# Source: https://scikit-learn.org/stable/modules/generated/sklearn.tree.DecisionTreeRegressor.html"
   ]
  },
  {
   "cell_type": "code",
   "execution_count": 10,
   "id": "f92030af",
   "metadata": {},
   "outputs": [
    {
     "name": "stdout",
     "output_type": "stream",
     "text": [
      "Mean squared error: 0.0038627782608695637\n"
     ]
    }
   ],
   "source": [
    "# Model Performace (Decision Tree)\n",
    "\n",
    "mse = mean_squared_error(y_test, y_pred)\n",
    "print('Mean squared error:', mse)"
   ]
  },
  {
   "cell_type": "code",
   "execution_count": 11,
   "id": "e2c7254f",
   "metadata": {},
   "outputs": [],
   "source": [
    "## Model Comparison\n",
    "\n",
    "# All three models performed well to predict the on-base percentages for each player for the 2021\n",
    "# season. The Random Forest model and the Gradient Boosting model performed better than the Decision\n",
    "# tree, likely because they are ensemble methods so they can handle larger and more complex datasets;\n",
    "# it is possible that the Decision Tree had overfitted (or underfitted) the data. For future preditions, \n",
    "# in order to improve the models, we should first find a better way to handle missing values in the data,\n",
    "# and additionally we may be able to mess with the hyperparameters in the models to make them perform\n",
    "# better on the dataset."
   ]
  }
 ],
 "metadata": {
  "kernelspec": {
   "display_name": "Python 3 (ipykernel)",
   "language": "python",
   "name": "python3"
  },
  "language_info": {
   "codemirror_mode": {
    "name": "ipython",
    "version": 3
   },
   "file_extension": ".py",
   "mimetype": "text/x-python",
   "name": "python",
   "nbconvert_exporter": "python",
   "pygments_lexer": "ipython3",
   "version": "3.9.13"
  }
 },
 "nbformat": 4,
 "nbformat_minor": 5
}
